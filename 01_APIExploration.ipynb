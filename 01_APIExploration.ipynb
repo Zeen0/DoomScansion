{
 "cells": [
  {
   "cell_type": "raw",
   "metadata": {},
   "source": [
    "---\n",
    "title: \"Untitled\"\n",
    "format: html\n",
    "---"
   ]
  },
  {
   "cell_type": "code",
   "execution_count": 1,
   "metadata": {},
   "outputs": [],
   "source": [
    "import lyricsgenius, json, re \n",
    "from collections import defaultdict\n"
   ]
  },
  {
   "cell_type": "code",
   "execution_count": 2,
   "metadata": {},
   "outputs": [],
   "source": [
    "with open('data/lyrics.json') as f:\n",
    "    data = json.load(f)"
   ]
  },
  {
   "cell_type": "markdown",
   "metadata": {},
   "source": [
    "# Dictionary Count of unique verse tags\n",
    "Lots of non-standard Bar tags, probably best to start analyzing one simple song alone. \n",
    "\n",
    "**ALIASES**\n",
    "* MF DOOM is Metal Face DOOM the SuperVillain (Metal Fingers for Production only)\n",
    "\n",
    "* In 2006 He technically dropped MF.\n",
    "\n",
    "* In order of introducing:\n",
    "\n",
    "* Zev Luv X (affiliated with group KMD)\n",
    "\n",
    "* King Geedorah (Ghidra)(affiliated with group Monsta Island Czars)\n",
    "\n",
    "* Viktor Vaughn (This is Teenage DOOM/no mask persona developed yet)\n",
    "\n",
    "* MadVillain (Madlib & MF DOOM the SuperVillain)\n",
    "\n",
    "* DangerDOOM (Danger Mouse & DOOM)\n",
    "\n",
    "* Unicron (Trunks & Metal Fingers DOOM)\n",
    "\n",
    "* MA DOOM (Masta Ace & Metal Fingers DOOM)\n",
    "\n",
    "* DOOMStarks (DOOM & Ghostface Killah as Tony Starks)\n",
    "\n",
    "* JJ DOOM (Jneiro Jarel & DOOM)\n",
    "\n",
    "* NehruvianDOOM (Bishop Nehru & Metal Fingers DOOM)\n",
    "\n",
    "* The Album John Robsinson - Who Is This Man? is also done by Metal Fingers DOOM\n",
    "\n",
    "* The Album MF Grimm - The Downfall Of Iblyis is also, the lion's share, done by Metal Fingers DOOM\n"
   ]
  },
  {
   "cell_type": "code",
   "execution_count": 3,
   "metadata": {},
   "outputs": [
    {
     "data": {
      "text/plain": [
       "defaultdict(int,\n",
       "            {'[Intro]': 30,\n",
       "             '[Interlude: DOOM]': 2,\n",
       "             '[Verse: MF DOOM]': 7,\n",
       "             '[Outro]': 31,\n",
       "             '[Outro: MF DOOM]': 7,\n",
       "             '[Sample]': 2,\n",
       "             '[Verse 1]': 25,\n",
       "             '[Chorus]': 16,\n",
       "             '[Verse 2]': 23,\n",
       "             '[Intro: Ghostface Killah]': 1,\n",
       "             '[Verse 1: Ghostface Killah]': 1,\n",
       "             '[Verse 2: DOOM]': 2,\n",
       "             '[Outro: Ghostface Killah & DOOM]': 1,\n",
       "             '[Produced by MF DOOM]': 18,\n",
       "             '[Verse 1 : Erykah Badu]': 1,\n",
       "             '[Hook]': 16,\n",
       "             '[Verse 2 : Erykah Badu]': 1,\n",
       "             '[Verse 3 : Erykah Badu]': 1,\n",
       "             '[Mister Fantastic]': 1,\n",
       "             '[Dr. Doom]': 11,\n",
       "             '[Mr. Fantastic]': 2,\n",
       "             '[Verse]': 28,\n",
       "             '[Interlude]': 5,\n",
       "             '[Produced by Metal Fingers]': 2,\n",
       "             '[Skit 1]': 3,\n",
       "             '[Skit 2]': 1,\n",
       "             '[Skit 3]': 1,\n",
       "             '[Skit 4]': 1,\n",
       "             '[Skit 5]': 1,\n",
       "             '[Skit 6]': 1,\n",
       "             '[Verse 3]': 8,\n",
       "             '[Intro: Samples & MF DOOM]': 1,\n",
       "             '[MF Doom]': 4,\n",
       "             '[MF DOOM]': 2,\n",
       "             '[RZA]': 1,\n",
       "             '[Jeru The Damaja]': 1,\n",
       "             '[Guru]': 1,\n",
       "             '[Talib Kweli]': 1,\n",
       "             '[DMX]': 1,\n",
       "             '[Interlude: Freddie Foxxx]': 1,\n",
       "             '[DOOM laughing]': 3,\n",
       "             '[Intro: Charles Bukowski]': 2,\n",
       "             '[Verse 1: MF DOOM]': 11,\n",
       "             '[Verse 2: MF DOOM]': 13,\n",
       "             '[Verse 1: DOOM]': 1,\n",
       "             '[Part III]': 2,\n",
       "             '[Part IV]': 2,\n",
       "             '[Part V]': 1,\n",
       "             '[Verse 4]': 4,\n",
       "             '[Part VI]': 1,\n",
       "             '[Part I]': 1,\n",
       "             '[Part II]': 1,\n",
       "             '[Part 1]': 3,\n",
       "             '[Intro: Samples]': 1,\n",
       "             '[Part 2]': 3,\n",
       "             '[Part 3]': 2,\n",
       "             '[Part 4]': 1,\n",
       "             '[Part 5]': 1,\n",
       "             '[Verse 1: Earthquake]': 1,\n",
       "             '[?]': 12,\n",
       "             '[Verse 2: MF Doom]': 1,\n",
       "             '[Verse 3: Earthquake]': 1,\n",
       "             '[DOOM]': 1,\n",
       "             '[Insight]': 1,\n",
       "             '[Intro: MF DOOM]': 3,\n",
       "             '[Skit]': 3,\n",
       "             '[Outro Skit: Character 1; Mr. Fantastic; (Invisible Woman);\\nDr. DOOM; Character 2]': 1,\n",
       "             '[Explosion sounds]': 1,\n",
       "             '[Woman screams]': 1,\n",
       "             '[Principal]': 2,\n",
       "             '[Reed]': 7,\n",
       "             '[Nurse]': 1,\n",
       "             '[Commissioner Robbins]': 3,\n",
       "             '[Intro: Pebbles the Invisible Girl, MF DOOM]': 1,\n",
       "             '[Chorus: MF DOOM]': 4,\n",
       "             '[Verse 3: MF DOOM]': 4,\n",
       "             '[Outro: Pebbles the Invisible Girl & MF Doom]': 2,\n",
       "             '[Intro: Sade, MF DOOM]': 1,\n",
       "             '[Emcee(s): MF DOOM]': 1,\n",
       "             '[Producer(s): Mister Jason]': 1,\n",
       "             '[Scratches: Mister Jason]': 1,\n",
       "             '[Hook: Samples with Scratches by Mister Jason]': 2,\n",
       "             '[Intro: Kurious]': 1,\n",
       "             '[Interlude: Kurious & MF DOOM]': 1,\n",
       "             '[Verse 2: MF DOOM & Kurious]': 1,\n",
       "             '[Verse 3: Kurious & MF DOOM]': 1,\n",
       "             '[Interlude: MF DOOM & Kurious]': 1,\n",
       "             '[Verse 4: MF DOOM & Kurious]': 1,\n",
       "             '[Outro: Samples]': 5,\n",
       "             '[Break: MF DOOM]': 3,\n",
       "             '[1994 Demo]': 1,\n",
       "             '[x2]': 1,\n",
       "             '[Verse 1: King Geedorah]': 3,\n",
       "             '[Verse 2: Megalon]': 2,\n",
       "             '[King Geedorah]': 1,\n",
       "             '[Intro: samples]': 1,\n",
       "             '[Verse 1: Angelika]': 1,\n",
       "             '[Hook: 4ize]': 3,\n",
       "             '[Verse 2: Angelika]': 1,\n",
       "             '[Verse 3: Angelika]': 1,\n",
       "             '[..]': 1,\n",
       "             '[Verse: E. Mason]': 1,\n",
       "             '[Intro: MF DOOM + sample]': 2,\n",
       "             '[Outro: Sample]': 2,\n",
       "             '[Outro Skit]': 1,\n",
       "             '[Verse:]': 1,\n",
       "             '[Verse: MC Paul Barman & MF DOOM]': 1,\n",
       "             '[MF Grimm]': 2,\n",
       "             '[Verse 1: MF Doom]': 1,\n",
       "             '[Refrain]': 1,\n",
       "             '[Verse: MF DOOM + sample]': 1,\n",
       "             '[Outro: Sample + MF DOOM]': 1,\n",
       "             '[Outro: Skit]': 1,\n",
       "             '[Instrumental Break]': 2,\n",
       "             '[Break]': 1,\n",
       "             '[Verse 2: Guilty Simpson]': 1,\n",
       "             '[Verse 1 : Ghostface Killah]': 1,\n",
       "             '[Bridge]': 2,\n",
       "             '[Verse 2: Ghostface Killah]': 1,\n",
       "             \"[Verse 3 : Cam'ron ]\": 1,\n",
       "             \"[Verse 4 : Cam'ron ]\": 1,\n",
       "             '[Scott Free]': 1,\n",
       "             '[Emcee(s): King Geedorah, Jet Jaguar, and Rodan]': 1,\n",
       "             '[Producer(s): MF DOOM (Original Instrumental from Metal Fingers - “Star Anis”)]': 1,\n",
       "             '[Verse 2: Jet Jaguar]': 1,\n",
       "             '[Verse 3: Rodan]': 1,\n",
       "             '[Verse 4: King Geedorah]': 1,\n",
       "             '[Intro: Sample]': 1,\n",
       "             '[Verse: MF DOOM + Samples]': 1,\n",
       "             '[Verse 1: Kool Keith]': 1,\n",
       "             '[Verse 1 : Big Punisher]': 1,\n",
       "             '[Verse 2 : Cuban Link]': 1,\n",
       "             '[Verse 3 : JuJu]': 1,\n",
       "             '[Verse 4 : Psycho Les]': 1,\n",
       "             '[Chorus 2x]': 1,\n",
       "             '[Verse 5 : Guru]': 1,\n",
       "             '[Outro: Skit 2]': 2,\n",
       "             '[Produced by Madlib]': 1,\n",
       "             '[Verse 3: King Geedorah]': 1,\n",
       "             '[Verse 1: Count Bass D]': 1,\n",
       "             '[Verse 3: Count Bass D]': 1,\n",
       "             '[Intro: Dr. Doom]': 1,\n",
       "             '[Verse 2: Kurious + MF DOOM]': 1,\n",
       "             '[Interlude: MF DOOM]': 1,\n",
       "             '[Outro: Dr. Doom]': 1,\n",
       "             '[Laugh Track]': 1,\n",
       "             '[Explosion]': 1,\n",
       "             '[Thing]': 1,\n",
       "             '[Laughs]': 1,\n",
       "             '[]': 1,\n",
       "             '[: Laughs]': 1,\n",
       "             '[Intro: Mr. Fantastik & MF DOOM]': 1,\n",
       "             '[Chorus: Mr. Fantastik, Mr. Fantastik & MF DOOM]': 2,\n",
       "             '[Verse 1: Mr. Fantastik]': 1,\n",
       "             '[Outro: Mr. Fantastik & MF DOOM]': 1,\n",
       "             '[Bridge: Sample]': 2,\n",
       "             '[Outro: Cucumber Slice]': 2,\n",
       "             '[Intro, various Power Records vocals]': 1,\n",
       "             '[Instrumental]': 2,\n",
       "             '[Verse: StaHHr]': 1,\n",
       "             '[Outro: sample]': 1,\n",
       "             '[Verse 1: Inspectah Deck]': 1,\n",
       "             '[Verse 2: Masta Killa]': 1,\n",
       "             '[Hook: Masta Killa]': 2,\n",
       "             '[Verse 3: GZA]': 1,\n",
       "             '[Intro: Posdnuos/P-Pain]': 1,\n",
       "             '[Verse 1: Kurious & DOOM]': 1,\n",
       "             '[Verse 2: DOOM & Posdnuos/P-Pain]': 1,\n",
       "             '[Verse 3: Mobonix]': 1,\n",
       "             '[Interlude: Posdnuos/P-Pain & Prince Paul/Filthy Pablo]': 1,\n",
       "             '[Verse 4: Slug]': 1,\n",
       "             '[Verse 1: Tommy Gunn & MF DOOM]': 1,\n",
       "             '[Verse 3: Tommy Gunn]': 1,\n",
       "             '[Verse 4: MF DOOM]': 1,\n",
       "             '[Verse 5: Megalon]': 1,\n",
       "             '[Verse 6: MF DOOM]': 1,\n",
       "             '[Verse 7: Megalon & MF DOOM]': 1,\n",
       "             '[Verse 8: MF DOOM]': 1,\n",
       "             '[Verse 9: Megalon]': 1,\n",
       "             '[Verse 10: MF DOOM & Tommy Gunn]': 1,\n",
       "             '[Costez]': 1,\n",
       "             \"[Raymond 'Zoro']\": 6,\n",
       "             '[Rose]': 4,\n",
       "             '[Intro: Pebbles the Invisible Girl]': 1,\n",
       "             '[Chorus: Pebbles the Invisible Girl]': 1,\n",
       "             '[Phade]': 4,\n",
       "             '[Robot Voice]': 8,\n",
       "             '[Union Crew]': 2,\n",
       "             '[Otto Von Lenz]': 1,\n",
       "             '[Sue]': 2,\n",
       "             '[Intro: MF DOOM & MF Grimm]': 2,\n",
       "             '[Verse 1: MF Grimm]': 2,\n",
       "             '[Chorus: MF Grimm]': 4,\n",
       "             '[Verse 2: MF Grimm]': 2,\n",
       "             '[Chorus: MF DOOM + Sample]': 1,\n",
       "             '[Verse 1: Jay Electronica]': 1,\n",
       "             \"[ Verse 1 : Lil' Fame ]\": 1,\n",
       "             '[ First Family! ]': 1,\n",
       "             '[ Chorus 2x]': 3,\n",
       "             '[Verse 2 : Billy Danze ]': 1,\n",
       "             \"[ Verse 3 : Lil' Fame ]\": 1,\n",
       "             '[ Verse 4 : Billy Danze ]': 1,\n",
       "             '[Intro: Megalon]': 1,\n",
       "             '[Verse 1: King Ceasar]': 1,\n",
       "             '[Verse 2: Rodan]': 1,\n",
       "             '[Hook: Megalon]': 2,\n",
       "             '[Verse 3: Megalon]': 1,\n",
       "             '[Verse 4: Kamackeris]': 1,\n",
       "             '[Verse 5: King Geedorah]': 1,\n",
       "             '[Verse 6: Kong]': 1,\n",
       "             '[Intro: Raekwon]': 1,\n",
       "             '[Verse: Raekwon]': 1,\n",
       "             '[Verse 1 : Jeru The Damaja]': 1,\n",
       "             '[Hook 1]': 1,\n",
       "             '[Verse 2 : Jeru the Damaja]': 1,\n",
       "             '[Hook 2]': 1,\n",
       "             '[Verse 3 : Jeru the Damaja]': 1,\n",
       "             '[Припев]': 1})"
      ]
     },
     "execution_count": 3,
     "metadata": {},
     "output_type": "execute_result"
    }
   ],
   "source": [
    "header_section_count = defaultdict(int)\n",
    "\n",
    "header_sections_set = set()\n",
    "for song in data['songs']:\n",
    "    for header in re.finditer(r\"(\\[[^\\]]*\\])\",song['lyrics']):\n",
    "        header_section_count[header.group()] += 1\n",
    "        #header_sections_set.add(header.group())\n",
    "\n",
    "header_section_count\n",
    "\n"
   ]
  },
  {
   "cell_type": "code",
   "execution_count": 4,
   "metadata": {},
   "outputs": [
    {
     "name": "stdout",
     "output_type": "stream",
     "text": [
      "27 ContributorsRap Ambush Lyrics[Intro]\n",
      "So we're gonna stand on perimeter\n",
      "We did have some shots fired right down the street on us\n",
      "While this was goin on, so we gotta set up a tight perimeter\n",
      "We got the streets blocked off\n",
      "To make sure we don't have any drivebys on us\n",
      "Other than that, the operation went fairly well\n",
      "Hell no, this shit is crazy\n",
      "Where is it they're coming from?\n",
      "I don't believe that shit\n",
      "\n",
      "[Verse]\n",
      "Who told you that? Rolled through, brrat!\n",
      "Old to the new knows who holds the hat\n",
      "Custom tailored fitted, head stayed same size\n",
      "Big since first born, well spitted game wise\n",
      "Same guy, same disguise\n",
      "Sick aim eye stare at thick dame thighs, click claim prize\n",
      "And the lucky contestant was sent\n",
      "A whole year's supply of buckets of yucky excrement\n",
      "Digital format, provide the ROM\n",
      "Ride calm, flow was like a roadside bomb (Woo)\n",
      "Flipped the Humvee, impact was limb-numbing\n",
      "Cameraman wig back, gunner screaming \"Incoming!\"\n",
      "RPG, rhyme propelled grenade\n",
      "Time to yell, scramble for cover in the shade\n",
      "Bright as the midday sun, then it fade\n",
      "Darkness come quick, some run and get sprayed\n",
      "Rot dead, hot lead, it's rainin'\n",
      "Left 'em with they brains kicked in with they trainin'\n",
      "Dragged the remains into the open by the bootstraps\n",
      "Dog tag attached to explosive human booby traps\n",
      "Where's air support? Ears ringin', mortars whistlin'\n",
      "Bloodshot vision, afterthought: abort mission\n",
      "Too little too late, as the last man gush\n",
      "Took no prisoners mush, rap ambush\n",
      "You might also like[Outro]\n",
      "Murdalizing sucker emcees!4Embed\n"
     ]
    }
   ],
   "source": [
    "print(data['songs'][171]['lyrics'])"
   ]
  },
  {
   "cell_type": "code",
   "execution_count": 5,
   "metadata": {},
   "outputs": [
    {
     "name": "stdout",
     "output_type": "stream",
     "text": [
      "[Intro]\n",
      "[Interlude: DOOM]\n",
      "[Verse: MF DOOM]\n",
      "[Outro]\n"
     ]
    }
   ],
   "source": [
    "abc = re.finditer(r\"(\\[[^\\]]*\\])\",data['songs'][0]['lyrics'])\n",
    "for item in abc:\n",
    "    print(item.group())"
   ]
  },
  {
   "cell_type": "code",
   "execution_count": 6,
   "metadata": {},
   "outputs": [],
   "source": [
    "abc = re.split(r\"\\[[^\\[\\]]+\\]\", data['songs'][0]['lyrics'])"
   ]
  },
  {
   "cell_type": "code",
   "execution_count": 7,
   "metadata": {},
   "outputs": [
    {
     "data": {
      "text/plain": [
       "171"
      ]
     },
     "execution_count": 7,
     "metadata": {},
     "output_type": "execute_result"
    }
   ],
   "source": [
    "song_title_dict = {data['songs'][i]['title']:i for i in range(len(data['songs']))}\n",
    "song_title_dict['Rap Ambush']"
   ]
  },
  {
   "cell_type": "code",
   "execution_count": 8,
   "metadata": {},
   "outputs": [
    {
     "data": {
      "text/plain": [
       "{'[Intro]': \"\\nSo we're gonna stand on perimeter\\nWe did have some shots fired right down the street on us\\nWhile this was goin on, so we gotta set up a tight perimeter\\nWe got the streets blocked off\\nTo make sure we don't have any drivebys on us\\nOther than that, the operation went fairly well\\nHell no, this shit is crazy\\nWhere is it they're coming from?\\nI don't believe that shit\\n\\n\",\n",
       " '[Verse]': '\\nWho told you that? Rolled through, brrat!\\nOld to the new knows who holds the hat\\nCustom tailored fitted, head stayed same size\\nBig since first born, well spitted game wise\\nSame guy, same disguise\\nSick aim eye stare at thick dame thighs, click claim prize\\nAnd the lucky contestant was sent\\nA whole year\\'s supply of buckets of yucky excrement\\nDigital format, provide the ROM\\nRide calm, flow was like a roadside bomb (Woo)\\nFlipped the Humvee, impact was limb-numbing\\nCameraman wig back, gunner screaming \"Incoming!\"\\nRPG, rhyme propelled grenade\\nTime to yell, scramble for cover in the shade\\nBright as the midday sun, then it fade\\nDarkness come quick, some run and get sprayed\\nRot dead, hot lead, it\\'s rainin\\'\\nLeft \\'em with they brains kicked in with they trainin\\'\\nDragged the remains into the open by the bootstraps\\nDog tag attached to explosive human booby traps\\nWhere\\'s air support? Ears ringin\\', mortars whistlin\\'\\nBloodshot vision, afterthought: abort mission\\nToo little too late, as the last man gush\\nTook no prisoners mush, rap ambush\\nYou might also like',\n",
       " '[Outro]': '\\nMurdalizing sucker emcees!4Embed'}"
      ]
     },
     "execution_count": 8,
     "metadata": {},
     "output_type": "execute_result"
    }
   ],
   "source": [
    "#Captures section ID e.g \"[Intro]bars/nbars...\"\n",
    "#necessary because there is often text preceeding first section\n",
    "sectioned_pattern = r\"((\\[[^\\]]+\\])([^\\[\\]]+))\"\n",
    "#Split Section from bars. 2 step to avoid some inconsistency issues\n",
    "split_section = r\"(\\[[^\\\\]+\\]).*\"\n",
    "\n",
    "#Future pattern to remove ##Embed tail (?:\\d+Embed)\n",
    "\n",
    "abc = re.finditer(sectioned_pattern, data['songs'][171]['lyrics'])\n",
    "\n",
    "\n",
    "song_dict = {match.group(2):match.group(3) for match in abc}\n",
    "song_dict\n",
    "\n",
    "\n",
    "\n"
   ]
  },
  {
   "cell_type": "code",
   "execution_count": 29,
   "metadata": {},
   "outputs": [
    {
     "name": "stdout",
     "output_type": "stream",
     "text": [
      "1004.73s - pydevd: Sending message related to process being replaced timed-out after 5 seconds\n"
     ]
    }
   ],
   "source": [
    "# install prosodic\n",
    "!pip install -qU prosodic"
   ]
  },
  {
   "cell_type": "code",
   "execution_count": 33,
   "metadata": {},
   "outputs": [
    {
     "name": "stdout",
     "output_type": "stream",
     "text": [
      "1169.96s - pydevd: Sending message related to process being replaced timed-out after 5 seconds\n",
      "\u001b[34m==>\u001b[0m \u001b[1mDownloading https://formulae.brew.sh/api/formula.jws.json\u001b[0m\n",
      "######################################################################### 100.0%\n",
      "\u001b[34m==>\u001b[0m \u001b[1mDownloading https://formulae.brew.sh/api/cask.jws.json\u001b[0m\n",
      "######################################################################### 100.0%\n",
      "\u001b[33mWarning:\u001b[0m espeak 1.48.04_1 is already installed and up-to-date.\n",
      "To reinstall 1.48.04_1, run:\n",
      "  brew reinstall espeak\n",
      "1177.38s - pydevd: Sending message related to process being replaced timed-out after 5 seconds\n",
      "/opt/homebrew/bin/espeak\n"
     ]
    }
   ],
   "source": [
    "# install espeak to pronounce unknown words\n",
    "!brew install espeak\n",
    "\n",
    "# check espeak installed\n",
    "!which espeak"
   ]
  },
  {
   "cell_type": "code",
   "execution_count": 42,
   "metadata": {},
   "outputs": [
    {
     "data": {
      "text/plain": [
       "'/Users/ZenonH/miniconda3/envs/doomscan/bin:/Users/ZenonH/miniconda3/condabin:/Library/Frameworks/Python.framework/Versions/3.11/bin:/opt/homebrew/bin:/opt/homebrew/sbin:/usr/local/bin:/System/Cryptexes/App/usr/bin:/usr/bin:/bin:/usr/sbin:/sbin:/var/run/com.apple.security.cryptexd/codex.system/bootstrap/usr/local/bin:/var/run/com.apple.security.cryptexd/codex.system/bootstrap/usr/bin:/var/run/com.apple.security.cryptexd/codex.system/bootstrap/usr/appleinternal/bin:/Applications/quarto/bin'"
      ]
     },
     "execution_count": 42,
     "metadata": {},
     "output_type": "execute_result"
    }
   ],
   "source": [
    "import os\n",
    "os.environ['PATH']"
   ]
  },
  {
   "cell_type": "code",
   "execution_count": 41,
   "metadata": {},
   "outputs": [
    {
     "name": "stdout",
     "output_type": "stream",
     "text": [
      "1590.44s - pydevd: Sending message related to process being replaced timed-out after 5 seconds\n",
      "Name: prosodic\n",
      "Version: 2.0.0.dev1\n",
      "Summary: Prosodic 2: a metrical-phonological parser, written in Python. For English and Finnish, with flexible language support.\n",
      "Home-page: https://github.com/quadrismegistus/prosodic/tree/develop\n",
      "Author: Ryan Heuser\n",
      "Author-email: ryan.heuser@princeton.edu\n",
      "License: Apache License, Version 2.0\n",
      "Location: /Users/ZenonH/miniconda3/envs/doomscan/lib/python3.12/site-packages\n",
      "Requires: click, editdistance, flask, flask-socketio, ftfy, gevent, gevent-websocket, gruut-ipa, ipython, langdetect, logmap, loguru, multiset, nltk, numpy, ordered-set, orjson, pandas, phonemizer, redis-dict, sqlitedict, syllabiphon\n",
      "Required-by: \n"
     ]
    }
   ],
   "source": [
    "# import prosodic\n",
    "import prosodic as p\n",
    "!pip show prosodic"
   ]
  },
  {
   "cell_type": "code",
   "execution_count": 46,
   "metadata": {},
   "outputs": [
    {
     "ename": "AttributeError",
     "evalue": "module 'prosodic' has no attribute 'config'",
     "output_type": "error",
     "traceback": [
      "\u001b[0;31m---------------------------------------------------------------------------\u001b[0m",
      "\u001b[0;31mAttributeError\u001b[0m                            Traceback (most recent call last)",
      "Cell \u001b[0;32mIn[46], line 2\u001b[0m\n\u001b[1;32m      1\u001b[0m \u001b[38;5;66;03m# hide this part\u001b[39;00m\n\u001b[0;32m----> 2\u001b[0m \u001b[43mp\u001b[49m\u001b[38;5;241;43m.\u001b[39;49m\u001b[43mconfig\u001b[49m[\u001b[38;5;124m'\u001b[39m\u001b[38;5;124mprint_to_screen\u001b[39m\u001b[38;5;124m'\u001b[39m]\u001b[38;5;241m=\u001b[39m\u001b[38;5;241m0\u001b[39m\n\u001b[1;32m      4\u001b[0m \u001b[38;5;66;03m# load poem\u001b[39;00m\n\u001b[1;32m      5\u001b[0m sonnet \u001b[38;5;241m=\u001b[39m p\u001b[38;5;241m.\u001b[39mText(\u001b[38;5;124m\"\"\"\u001b[39m\u001b[38;5;124mWho told you that? Rolled through, brrat!\u001b[39m\n\u001b[1;32m      6\u001b[0m \u001b[38;5;124mOld to the new knows who holds the hat\u001b[39m\n\u001b[1;32m      7\u001b[0m \u001b[38;5;124mCustom tailored fitted, head stayed same size\u001b[39m\n\u001b[0;32m   (...)\u001b[0m\n\u001b[1;32m     28\u001b[0m \u001b[38;5;124mTook no prisoners mush, rap ambush\u001b[39m\n\u001b[1;32m     29\u001b[0m \u001b[38;5;124mYou might also like\u001b[39m\u001b[38;5;124m\"\"\"\u001b[39m)\n",
      "\u001b[0;31mAttributeError\u001b[0m: module 'prosodic' has no attribute 'config'"
     ]
    }
   ],
   "source": [
    "# hide this part\n",
    "p.config['print_to_screen']=0\n",
    "\n",
    "# load poem\n",
    "sonnet = p.Text(\"\"\"Who told you that? Rolled through, brrat!\n",
    "Old to the new knows who holds the hat\n",
    "Custom tailored fitted, head stayed same size\n",
    "Big since first born, well spitted game wise\n",
    "Same guy, same disguise\n",
    "Sick aim eye stare at thick dame thighs, click claim prize\n",
    "And the lucky contestant was sent\n",
    "A whole year's supply of buckets of yucky excrement\n",
    "Digital format, provide the ROM\n",
    "Ride calm, flow was like a roadside bomb (Woo)\n",
    "Flipped the Humvee, impact was limb-numbing\n",
    "Cameraman wig back, gunner screaming \"Incoming!\"\n",
    "RPG, rhyme propelled grenade\n",
    "Time to yell, scramble for cover in the shade\n",
    "Bright as the midday sun, then it fade\n",
    "Darkness come quick, some run and get sprayed\n",
    "Rot dead, hot lead, it's rainin'\n",
    "Left 'em with they brains kicked in with they trainin'\n",
    "Dragged the remains into the open by the bootstraps\n",
    "Dog tag attached to explosive human booby traps\n",
    "Where's air support? Ears ringin', mortars whistlin'\n",
    "Bloodshot vision, afterthought: abort mission\n",
    "Too little too late, as the last man gush\n",
    "Took no prisoners mush, rap ambush\n",
    "You might also like\"\"\")"
   ]
  },
  {
   "cell_type": "code",
   "execution_count": 45,
   "metadata": {},
   "outputs": [
    {
     "ename": "AttributeError",
     "evalue": "module 'prosodic' has no attribute 'get_meter'",
     "output_type": "error",
     "traceback": [
      "\u001b[0;31m---------------------------------------------------------------------------\u001b[0m",
      "\u001b[0;31mAttributeError\u001b[0m                            Traceback (most recent call last)",
      "Cell \u001b[0;32mIn[45], line 5\u001b[0m\n\u001b[1;32m      1\u001b[0m \u001b[38;5;66;03m# show this part\u001b[39;00m\n\u001b[1;32m      2\u001b[0m \n\u001b[1;32m      3\u001b[0m \u001b[38;5;66;03m# parse\u001b[39;00m\n\u001b[1;32m      4\u001b[0m meter_name \u001b[38;5;241m=\u001b[39m \u001b[38;5;124m'\u001b[39m\u001b[38;5;124miambic_pentameter\u001b[39m\u001b[38;5;124m'\u001b[39m        \u001b[38;5;66;03m# check ~/prosodic_data/meters for options\u001b[39;00m\n\u001b[0;32m----> 5\u001b[0m meter \u001b[38;5;241m=\u001b[39m \u001b[43mp\u001b[49m\u001b[38;5;241;43m.\u001b[39;49m\u001b[43mget_meter\u001b[49m(meter_name)\n\u001b[1;32m      7\u001b[0m \u001b[38;5;66;03m# parse\u001b[39;00m\n\u001b[1;32m      8\u001b[0m sonnet\u001b[38;5;241m.\u001b[39mparse(meter\u001b[38;5;241m=\u001b[39mmeter)\n",
      "\u001b[0;31mAttributeError\u001b[0m: module 'prosodic' has no attribute 'get_meter'"
     ]
    }
   ],
   "source": [
    "# show this part\n",
    "\n",
    "# parse\n",
    "meter_name = 'iambic_pentameter'        # check ~/prosodic_data/meters for options\n",
    "meter = p.get_meter(meter_name)\n",
    "\n",
    "# parse\n",
    "sonnet.parse(meter=meter)"
   ]
  },
  {
   "cell_type": "code",
   "execution_count": null,
   "metadata": {},
   "outputs": [],
   "source": []
  }
 ],
 "metadata": {
  "kernelspec": {
   "display_name": "doomscan",
   "language": "python",
   "name": "python3"
  },
  "language_info": {
   "codemirror_mode": {
    "name": "ipython",
    "version": 3
   },
   "file_extension": ".py",
   "mimetype": "text/x-python",
   "name": "python",
   "nbconvert_exporter": "python",
   "pygments_lexer": "ipython3",
   "version": "3.12.0"
  }
 },
 "nbformat": 4,
 "nbformat_minor": 2
}
