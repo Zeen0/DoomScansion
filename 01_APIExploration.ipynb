{
 "cells": [
  {
   "cell_type": "raw",
   "metadata": {},
   "source": [
    "---\n",
    "title: \"Untitled\"\n",
    "format: html\n",
    "---"
   ]
  },
  {
   "cell_type": "code",
   "execution_count": 1,
   "metadata": {},
   "outputs": [],
   "source": [
    "import lyricsgenius, json, re, \n",
    "from collections import defaultdict\n"
   ]
  },
  {
   "cell_type": "code",
   "execution_count": 17,
   "metadata": {},
   "outputs": [],
   "source": [
    "with open('Lyrics_MFDOOM.json') as f:\n",
    "    data = json.load(f)"
   ]
  },
  {
   "cell_type": "code",
   "execution_count": 119,
   "metadata": {},
   "outputs": [
    {
     "name": "stdout",
     "output_type": "stream",
     "text": [
      "defaultdict(<class 'int'>, {'[Intro]': 30, '[Interlude: DOOM]': 2, '[Verse: MF DOOM]': 7, '[Outro]': 31, '[Outro: MF DOOM]': 7, '[Sample]': 2, '[Verse 1]': 25, '[Chorus]': 16, '[Verse 2]': 23, '[Intro: Ghostface Killah]': 1, '[Verse 1: Ghostface Killah]': 1, '[Verse 2: DOOM]': 2, '[Outro: Ghostface Killah & DOOM]': 1, '[Produced by MF DOOM]': 18, '[Verse 1 : Erykah Badu]': 1, '[Hook]': 16, '[Verse 2 : Erykah Badu]': 1, '[Verse 3 : Erykah Badu]': 1, '[Mister Fantastic]': 1, '[Dr. Doom]': 11, '[Mr. Fantastic]': 2, '[Verse]': 28, '[Interlude]': 5, '[Produced by Metal Fingers]': 2, '[Skit 1]': 3, '[Skit 2]': 1, '[Skit 3]': 1, '[Skit 4]': 1, '[Skit 5]': 1, '[Skit 6]': 1, '[Verse 3]': 8, '[Intro: Samples & MF DOOM]': 1, '[MF Doom]': 4, '[MF DOOM]': 2, '[RZA]': 1, '[Jeru The Damaja]': 1, '[Guru]': 1, '[Talib Kweli]': 1, '[DMX]': 1, '[Interlude: Freddie Foxxx]': 1, '[DOOM laughing]': 3, '[Intro: Charles Bukowski]': 2, '[Verse 1: MF DOOM]': 11, '[Verse 2: MF DOOM]': 13, '[Verse 1: DOOM]': 1, '[Part III]': 2, '[Part IV]': 2, '[Part V]': 1, '[Verse 4]': 4, '[Part VI]': 1, '[Part I]': 1, '[Part II]': 1, '[Part 1]': 3, '[Intro: Samples]': 1, '[Part 2]': 3, '[Part 3]': 2, '[Part 4]': 1, '[Part 5]': 1, '[Verse 1: Earthquake]': 1, '[?]': 12, '[Verse 2: MF Doom]': 1, '[Verse 3: Earthquake]': 1, '[DOOM]': 1, '[Insight]': 1, '[Intro: MF DOOM]': 3, '[Skit]': 3, '[Outro Skit: Character 1; Mr. Fantastic; (Invisible Woman);\\nDr. DOOM; Character 2]': 1, '[Explosion sounds]': 1, '[Woman screams]': 1, '[Principal]': 2, '[Reed]': 7, '[Nurse]': 1, '[Commissioner Robbins]': 3, '[Intro: Pebbles the Invisible Girl, MF DOOM]': 1, '[Chorus: MF DOOM]': 4, '[Verse 3: MF DOOM]': 4, '[Outro: Pebbles the Invisible Girl & MF Doom]': 2, '[Intro: Sade, MF DOOM]': 1, '[Emcee(s): MF DOOM]': 1, '[Producer(s): Mister Jason]': 1, '[Scratches: Mister Jason]': 1, '[Hook: Samples with Scratches by Mister Jason]': 2, '[Intro: Kurious]': 1, '[Interlude: Kurious & MF DOOM]': 1, '[Verse 2: MF DOOM & Kurious]': 1, '[Verse 3: Kurious & MF DOOM]': 1, '[Interlude: MF DOOM & Kurious]': 1, '[Verse 4: MF DOOM & Kurious]': 1, '[Outro: Samples]': 5, '[Break: MF DOOM]': 3, '[1994 Demo]': 1, '[x2]': 1, '[Verse 1: King Geedorah]': 3, '[Verse 2: Megalon]': 2, '[King Geedorah]': 1, '[Intro: samples]': 1, '[Verse 1: Angelika]': 1, '[Hook: 4ize]': 3, '[Verse 2: Angelika]': 1, '[Verse 3: Angelika]': 1, '[..]': 1, '[Verse: E. Mason]': 1, '[Intro: MF DOOM + sample]': 2, '[Outro: Sample]': 2, '[Outro Skit]': 1, '[Verse:]': 1, '[Verse: MC Paul Barman & MF DOOM]': 1, '[MF Grimm]': 2, '[Verse 1: MF Doom]': 1, '[Refrain]': 1, '[Verse: MF DOOM + sample]': 1, '[Outro: Sample + MF DOOM]': 1, '[Outro: Skit]': 1, '[Instrumental Break]': 2, '[Break]': 1, '[Verse 2: Guilty Simpson]': 1, '[Verse 1 : Ghostface Killah]': 1, '[Bridge]': 2, '[Verse 2: Ghostface Killah]': 1, \"[Verse 3 : Cam'ron ]\": 1, \"[Verse 4 : Cam'ron ]\": 1, '[Scott Free]': 1, '[Emcee(s): King Geedorah, Jet Jaguar, and Rodan]': 1, '[Producer(s): MF DOOM (Original Instrumental from Metal Fingers - “Star Anis”)]': 1, '[Verse 2: Jet Jaguar]': 1, '[Verse 3: Rodan]': 1, '[Verse 4: King Geedorah]': 1, '[Intro: Sample]': 1, '[Verse: MF DOOM + Samples]': 1, '[Verse 1: Kool Keith]': 1, '[Verse 1 : Big Punisher]': 1, '[Verse 2 : Cuban Link]': 1, '[Verse 3 : JuJu]': 1, '[Verse 4 : Psycho Les]': 1, '[Chorus 2x]': 1, '[Verse 5 : Guru]': 1, '[Outro: Skit 2]': 2, '[Produced by Madlib]': 1, '[Verse 3: King Geedorah]': 1, '[Verse 1: Count Bass D]': 1, '[Verse 3: Count Bass D]': 1, '[Intro: Dr. Doom]': 1, '[Verse 2: Kurious + MF DOOM]': 1, '[Interlude: MF DOOM]': 1, '[Outro: Dr. Doom]': 1, '[Laugh Track]': 1, '[Explosion]': 1, '[Thing]': 1, '[Laughs]': 1, '[]': 1, '[: Laughs]': 1, '[Intro: Mr. Fantastik & MF DOOM]': 1, '[Chorus: Mr. Fantastik, Mr. Fantastik & MF DOOM]': 2, '[Verse 1: Mr. Fantastik]': 1, '[Outro: Mr. Fantastik & MF DOOM]': 1, '[Bridge: Sample]': 2, '[Outro: Cucumber Slice]': 2, '[Intro, various Power Records vocals]': 1, '[Instrumental]': 2, '[Verse: StaHHr]': 1, '[Outro: sample]': 1, '[Verse 1: Inspectah Deck]': 1, '[Verse 2: Masta Killa]': 1, '[Hook: Masta Killa]': 2, '[Verse 3: GZA]': 1, '[Intro: Posdnuos/P-Pain]': 1, '[Verse 1: Kurious & DOOM]': 1, '[Verse 2: DOOM & Posdnuos/P-Pain]': 1, '[Verse 3: Mobonix]': 1, '[Interlude: Posdnuos/P-Pain & Prince Paul/Filthy Pablo]': 1, '[Verse 4: Slug]': 1, '[Verse 1: Tommy Gunn & MF DOOM]': 1, '[Verse 3: Tommy Gunn]': 1, '[Verse 4: MF DOOM]': 1, '[Verse 5: Megalon]': 1, '[Verse 6: MF DOOM]': 1, '[Verse 7: Megalon & MF DOOM]': 1, '[Verse 8: MF DOOM]': 1, '[Verse 9: Megalon]': 1, '[Verse 10: MF DOOM & Tommy Gunn]': 1, '[Costez]': 1, \"[Raymond 'Zoro']\": 6, '[Rose]': 4, '[Intro: Pebbles the Invisible Girl]': 1, '[Chorus: Pebbles the Invisible Girl]': 1, '[Phade]': 4, '[Robot Voice]': 8, '[Union Crew]': 2, '[Otto Von Lenz]': 1, '[Sue]': 2, '[Intro: MF DOOM & MF Grimm]': 2, '[Verse 1: MF Grimm]': 2, '[Chorus: MF Grimm]': 4, '[Verse 2: MF Grimm]': 2, '[Chorus: MF DOOM + Sample]': 1, '[Verse 1: Jay Electronica]': 1, \"[ Verse 1 : Lil' Fame ]\": 1, '[ First Family! ]': 1, '[ Chorus 2x]': 3, '[Verse 2 : Billy Danze ]': 1, \"[ Verse 3 : Lil' Fame ]\": 1, '[ Verse 4 : Billy Danze ]': 1, '[Intro: Megalon]': 1, '[Verse 1: King Ceasar]': 1, '[Verse 2: Rodan]': 1, '[Hook: Megalon]': 2, '[Verse 3: Megalon]': 1, '[Verse 4: Kamackeris]': 1, '[Verse 5: King Geedorah]': 1, '[Verse 6: Kong]': 1, '[Intro: Raekwon]': 1, '[Verse: Raekwon]': 1, '[Verse 1 : Jeru The Damaja]': 1, '[Hook 1]': 1, '[Verse 2 : Jeru the Damaja]': 1, '[Hook 2]': 1, '[Verse 3 : Jeru the Damaja]': 1, '[Припев]': 1})\n"
     ]
    }
   ],
   "source": [
    "header_section_count = defaultdict(int)\n",
    "\n",
    "header_sections_set = set()\n",
    "for song in data['songs']:\n",
    "    for header in re.finditer(r\"(\\[[^\\]]*\\])\",song['lyrics']):\n",
    "        header_section_count[header.group()] += 1\n",
    "        #header_sections_set.add(header.group())\n",
    "\n",
    "print(header_section_count)\n",
    "\n"
   ]
  },
  {
   "cell_type": "code",
   "execution_count": 99,
   "metadata": {},
   "outputs": [
    {
     "name": "stdout",
     "output_type": "stream",
     "text": [
      "1 ContributorAccordion (Live) Lyrics[Verse: MF DOOM]\n",
      "Living off borrowed time, the clock tick faster\n",
      "That'd be the hour they knock the slick blaster\n",
      "Dick Dastardly and Muttley with sick laughter\n",
      "A gun fight and they come to cut the mixmaster\n",
      "I-C-E cold, nice to be old\n",
      "Y2G stee twice to threefold\n",
      "He sold scrolls, lo and behold\n",
      "Know who's the illest ever like the greatest story told\n",
      "Keep your glory, gold and glitter\n",
      "For half, half of his niggas'll take him out the picture\n",
      "The other half is rich and it don't mean shit-ta\n",
      "Villain: a mixture between both with a twist of liquor\n",
      "Chase it with more beer, taste it like truth or dare\n",
      "Whеn he have the mic, it's likе the place get like: \"Aw, yeah!\"\n",
      "It's like they know what's 'bout to happen\n",
      "Just keep ya eye out, like \"Aye, aye, captain\"\n",
      "Is he still a fly guy clapping if nobody ain't hear it?\n",
      "And can they testify from in the spirit? (Nah)\n",
      "In living, the true gods\n",
      "Giving y'all nothing but the lick like two broads\n",
      "Got more lyrics than the church got \"Ooh, Lord\"s\n",
      "And he hold the mic and your attention like two swords\n",
      "Either that or either one with two blades on it\n",
      "Hey you, don't touch the mic like it's AIDS on it (Yuck)\n",
      "It's like the end to the means\n",
      "Fucked type of message that sends to the fiends\n",
      "That's why he bring his own needles\n",
      "And get more cheese than Doritos, Cheetos or Fritos\n",
      "Slip like Freudian\n",
      "Your first and last step to playing yourself like accordion\n",
      "You might also like[Outro: MF DOOM]\n",
      "When he at the mic, you don't go next\n",
      "Leaving pussy cats like why hoes need Cotex\n",
      "Exercise index, won't need Bowflex\n",
      "And won't take the one with no skinny legs like Joe TexEmbed\n"
     ]
    }
   ],
   "source": [
    "print(data['songs'][1]['lyrics'])"
   ]
  },
  {
   "cell_type": "code",
   "execution_count": 110,
   "metadata": {},
   "outputs": [
    {
     "name": "stdout",
     "output_type": "stream",
     "text": [
      "[Intro]\n",
      "[Interlude: DOOM]\n",
      "[Verse: MF DOOM]\n",
      "[Outro]\n"
     ]
    }
   ],
   "source": [
    "abc = re.finditer(r\"(\\[[^\\]]*\\])\",data['songs'][0]['lyrics'])\n",
    "for item in abc:\n",
    "    print(item.group())"
   ]
  },
  {
   "cell_type": "code",
   "execution_count": 83,
   "metadata": {},
   "outputs": [],
   "source": [
    "abc = re.split(r\"\\[[^\\[\\]]+\\]\", data['songs'][0]['lyrics'])"
   ]
  }
 ],
 "metadata": {
  "kernelspec": {
   "display_name": "doomscan",
   "language": "python",
   "name": "python3"
  },
  "language_info": {
   "codemirror_mode": {
    "name": "ipython",
    "version": 3
   },
   "file_extension": ".py",
   "mimetype": "text/x-python",
   "name": "python",
   "nbconvert_exporter": "python",
   "pygments_lexer": "ipython3",
   "version": "3.12.0"
  }
 },
 "nbformat": 4,
 "nbformat_minor": 2
}
